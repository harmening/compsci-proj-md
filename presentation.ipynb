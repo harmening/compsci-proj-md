{
 "cells": [
  {
   "cell_type": "code",
   "execution_count": 7,
   "metadata": {
    "collapsed": true
   },
   "outputs": [],
   "source": [
    "import numpy as np"
   ]
  },
  {
   "cell_type": "markdown",
   "metadata": {
    "slideshow": {
     "slide_type": "-"
    }
   },
   "source": [
    "# Project Molecular Dynamics"
   ]
  },
  {
   "cell_type": "markdown",
   "metadata": {},
   "source": [
    "\n"
   ]
  },
  {
   "cell_type": "markdown",
   "metadata": {
    "slideshow": {
     "slide_type": "slide"
    }
   },
   "source": [
    "# 1. Structure"
   ]
  },
  {
   "cell_type": "markdown",
   "metadata": {
    "nbpresent": {
     "id": "b29f4ecc-0599-47ef-814c-e6cab247b13f"
    },
    "slideshow": {
     "slide_type": "slide"
    }
   },
   "source": [
    "## 1.1 General Structure"
   ]
  },
  {
   "cell_type": "markdown",
   "metadata": {
    "nbpresent": {
     "id": "437b4071-6807-4c62-b663-a52eaed964fa"
    },
    "slideshow": {
     "slide_type": "slide"
    }
   },
   "source": [
    "Include simple picture of structure here"
   ]
  },
  {
   "cell_type": "markdown",
   "metadata": {
    "nbpresent": {
     "id": "1738a7ec-e2ed-48f3-909a-c9d18831637f"
    },
    "slideshow": {
     "slide_type": "slide"
    }
   },
   "source": [
    "\n"
   ]
  },
  {
   "cell_type": "markdown",
   "metadata": {},
   "source": [
    "## 1.2 Input file"
   ]
  },
  {
   "cell_type": "markdown",
   "metadata": {},
   "source": [
    "show and explain input file"
   ]
  },
  {
   "cell_type": "markdown",
   "metadata": {},
   "source": [
    "\n"
   ]
  },
  {
   "cell_type": "markdown",
   "metadata": {
    "nbpresent": {
     "id": "a1126827-876e-4eba-855b-a6069345acf6"
    },
    "slideshow": {
     "slide_type": "slide"
    }
   },
   "source": [
    "## 1.3 Class \"System\""
   ]
  },
  {
   "cell_type": "markdown",
   "metadata": {
    "nbpresent": {
     "id": "2c26ca89-327d-49f5-bc41-cd8451d3d36b"
    },
    "slideshow": {
     "slide_type": "slide"
    }
   },
   "source": [
    "- get_Labels(self)\n",
    "\n",
    "\n",
    "- get_LJ_parameter(self)"
   ]
  },
  {
   "cell_type": "markdown",
   "metadata": {
    "nbpresent": {
     "id": "7c1892be-e0bc-458e-9342-dd49c16dd345"
    }
   },
   "source": [
    "\n"
   ]
  },
  {
   "cell_type": "markdown",
   "metadata": {
    "nbpresent": {
     "id": "1ad0d92c-438a-43fb-ac61-5a7cd020880d"
    }
   },
   "source": [
    "## 1.4 Class \"md\""
   ]
  },
  {
   "cell_type": "markdown",
   "metadata": {
    "nbpresent": {
     "id": "3481c0f0-9cd9-4854-917e-0f192e34d6dd"
    }
   },
   "source": [
    "### Functions available for user"
   ]
  },
  {
   "cell_type": "markdown",
   "metadata": {
    "nbpresent": {
     "id": "7fad07f3-0dba-47f1-8be6-bfe2e98b3f77"
    }
   },
   "source": [
    "- get_neighbourlist_coulomb(self)\n",
    "\n",
    "\n",
    "- get_neighbourlist_LJ(self)\n",
    "\n",
    "\n",
    "- get_potential(self)\n",
    "\n",
    "\n",
    "- get_energy(self)\n",
    "\n",
    "\n",
    "- get_forces(self)\n",
    "\n",
    "\n",
    "- get_Temperature(self)\n",
    "\n",
    "\n",
    "- propagate_system(self)\n",
    "\n",
    "\n",
    "- get_traj(self, N_steps, Energy_threshold, Energy_save, Temperature_save, Frame_save, path)"
   ]
  },
  {
   "cell_type": "markdown",
   "metadata": {
    "collapsed": true
   },
   "source": [
    "\n"
   ]
  },
  {
   "cell_type": "markdown",
   "metadata": {},
   "source": [
    "## 1.5 Class \"neighbourlist\""
   ]
  },
  {
   "cell_type": "markdown",
   "metadata": {},
   "source": [
    "- compute_neighbourlist(self, R, box_length, r_cutoff)"
   ]
  },
  {
   "cell_type": "markdown",
   "metadata": {},
   "source": [
    "Nils part. Add whatever you want."
   ]
  },
  {
   "cell_type": "markdown",
   "metadata": {},
   "source": [
    "\n"
   ]
  },
  {
   "cell_type": "markdown",
   "metadata": {
    "collapsed": true
   },
   "source": [
    "## 1.6 Class \"directions\""
   ]
  },
  {
   "cell_type": "markdown",
   "metadata": {
    "collapsed": true
   },
   "source": [
    "- get_directions(self, n_boxes)"
   ]
  },
  {
   "cell_type": "code",
   "execution_count": 8,
   "metadata": {
    "collapsed": true
   },
   "outputs": [],
   "source": [
    "def get_directions(n_boxes):\n",
    "    \"\"\" Returns\n",
    "    -------------------\n",
    "    K (2*n_boxes+1)**3 x 3 Array\n",
    "    Each Row of the Array denotes a 1x3 Array that points to a unique dircetion\"\"\"\n",
    "        \n",
    "    assert type(n_boxes) is int, \"n_boxes must be an integer\"\n",
    "    # number of boxes in system (including all copies)\n",
    "    N_total_boxes = (2*n_boxes+1)**3\n",
    "    \n",
    "    # create natural numbers starting from 0 in decimal system\n",
    "    decimals = np.arange(N_total_boxes)\n",
    "    \n",
    "    # convert natural numbers to q-adic representation\n",
    "    base = (2*n_boxes+1)\n",
    "\n",
    "    K = np.zeros((N_total_boxes,3))\n",
    "\n",
    "    K[:,0] = np.floor(decimals/base**2)                      # q²\n",
    "    K[:,1] = np.floor((decimals - K[:,0]*base**2) / base)    # q¹\n",
    "    K[:,2] = decimals - K[:,0]*base**2 - K[:,1]*base         # q⁰\n",
    "\n",
    "    K -= n_boxes       # highest coefficient is number of boxes in one direction\n",
    "    return K"
   ]
  },
  {
   "cell_type": "code",
   "execution_count": 9,
   "metadata": {
    "collapsed": false
   },
   "outputs": [
    {
     "data": {
      "text/plain": [
       "array([[-1., -1., -1.],\n",
       "       [-1., -1.,  0.],\n",
       "       [-1., -1.,  1.],\n",
       "       [-1.,  0., -1.],\n",
       "       [-1.,  0.,  0.],\n",
       "       [-1.,  0.,  1.],\n",
       "       [-1.,  1., -1.],\n",
       "       [-1.,  1.,  0.],\n",
       "       [-1.,  1.,  1.],\n",
       "       [ 0., -1., -1.],\n",
       "       [ 0., -1.,  0.],\n",
       "       [ 0., -1.,  1.],\n",
       "       [ 0.,  0., -1.],\n",
       "       [ 0.,  0.,  0.],\n",
       "       [ 0.,  0.,  1.],\n",
       "       [ 0.,  1., -1.],\n",
       "       [ 0.,  1.,  0.],\n",
       "       [ 0.,  1.,  1.],\n",
       "       [ 1., -1., -1.],\n",
       "       [ 1., -1.,  0.],\n",
       "       [ 1., -1.,  1.],\n",
       "       [ 1.,  0., -1.],\n",
       "       [ 1.,  0.,  0.],\n",
       "       [ 1.,  0.,  1.],\n",
       "       [ 1.,  1., -1.],\n",
       "       [ 1.,  1.,  0.],\n",
       "       [ 1.,  1.,  1.]])"
      ]
     },
     "execution_count": 9,
     "metadata": {},
     "output_type": "execute_result"
    }
   ],
   "source": [
    "get_directions(1)"
   ]
  },
  {
   "cell_type": "markdown",
   "metadata": {},
   "source": [
    "\n"
   ]
  },
  {
   "cell_type": "markdown",
   "metadata": {},
   "source": [
    "## 1.7 Class \"coulomb\""
   ]
  },
  {
   "cell_type": "markdown",
   "metadata": {
    "collapsed": true
   },
   "source": [
    "- compute_optimal_cutoff(self, Positions, Labels, L, p_error)\n",
    "\n",
    "\n",
    "\n",
    "- compute_potential(self,labels,positions, neighbours, distances)\n",
    "\n",
    "    short-range-potential + long-range-potential\n",
    "    \n",
    "    \n",
    "    \n",
    "- compute_energy(self,labels,positions, neighbours, distances)\n",
    "\n",
    "    short-range-energy + long-range-energy - self-energy\n",
    "    \n",
    "    \n",
    "    \n",
    "- compute_forces(self,Positions, Labels,L)\n",
    "    \n",
    "    short-range-forces + long-range-forces"
   ]
  },
  {
   "cell_type": "markdown",
   "metadata": {},
   "source": [
    "### 1.7.1 Short range potential and energy"
   ]
  },
  {
   "cell_type": "markdown",
   "metadata": {},
   "source": [
    "Add shit here (Hendrik)"
   ]
  },
  {
   "cell_type": "markdown",
   "metadata": {},
   "source": [
    "### 1.7.2 Long range potential and energy"
   ]
  },
  {
   "cell_type": "markdown",
   "metadata": {},
   "source": [
    "Add shit here (Darian)"
   ]
  },
  {
   "cell_type": "markdown",
   "metadata": {},
   "source": [
    "### 1.7.3 Short range forces"
   ]
  },
  {
   "cell_type": "markdown",
   "metadata": {},
   "source": [
    "Add shit here (Marco)"
   ]
  },
  {
   "cell_type": "markdown",
   "metadata": {},
   "source": [
    "### 1.7.4 Long range forces"
   ]
  },
  {
   "cell_type": "markdown",
   "metadata": {},
   "source": [
    "$$\\mathbf{f}_i^L = \\frac{q_i}{V\\epsilon_0} ~ \\sum_{\\mathbf{k}=1}^{M} \\frac{\\mathbf{k}}{|k|^2} ~ \\exp(\\frac{-\\sigma^2 |k|^2}{2}) ~ \\sum_{j=1}^N q_j \\sin\\left(\\langle \\mathbf{k},(\\mathbf{r}_i - \\mathbf{r}_j)\\rangle \\right) $$"
   ]
  },
  {
   "cell_type": "markdown",
   "metadata": {},
   "source": [
    "Use symmetry of sine:    $$ sin(-x) = - sin(x) $$\n",
    "\n",
    "\n"
   ]
  },
  {
   "cell_type": "markdown",
   "metadata": {},
   "source": [
    "\n"
   ]
  },
  {
   "cell_type": "markdown",
   "metadata": {},
   "source": [
    "\n",
    "\n",
    "\n",
    "$$ \\frac{2\\pi}{L} \\Biggl\\{ \\ldots \\overbrace{  \\left( \\begin{matrix} -1 \\\\-1 \\\\ -1 \\end{matrix} \\right) \\ldots \\underbrace{ \\left( \\begin{matrix} -1 \\\\ 0 \\\\ 1 \\end{matrix} \\right) \\ldots \\overbrace{ \\left( \\begin{matrix} 0 \\\\ 0 \\\\ -1 \\end{matrix} \\right)         \\ldots  \\ldots \\left( \\begin{matrix} 0 \\\\ 0 \\\\ 1 \\end{matrix} \\right) } \\ldots \\left( \\begin{matrix} 1 \\\\ 0 \\\\ -1 \\end{matrix} \\right) } \\ldots \\left( \\begin{matrix} 1 \\\\ 1 \\\\ 1 \\end{matrix} \\right) } \\ldots \\Biggr\\} $$"
   ]
  },
  {
   "cell_type": "markdown",
   "metadata": {},
   "source": [
    "New equation:\n",
    "\n",
    "$$\\mathbf{f}_i^L = {\\color{red}2} ~ \\frac{q_i}{V\\epsilon_0} ~ \\sum_{\\mathbf{k}=1}^{\\frac{\\color{red}M}{\\color{red}2}} \\frac{\\mathbf{k}}{|k|^2} ~ \\exp(\\frac{-\\sigma^2 |k|^2}{2}) ~ \\sum_{j=1}^N q_j \\sin\\left(\\langle \\mathbf{k},(\\mathbf{r}_i - \\mathbf{r}_j)\\rangle \\right) $$"
   ]
  },
  {
   "cell_type": "markdown",
   "metadata": {},
   "source": [
    "## 1.8 Class \"lennard_jones\""
   ]
  },
  {
   "cell_type": "markdown",
   "metadata": {},
   "source": [
    "- compute_potential(self, sigma, epsilon, labels, neighbours, distances)\n",
    "\n",
    "\n",
    "- compute_energy(self, sigma, epsilon, labels, neighbours, distances)"
   ]
  },
  {
   "cell_type": "markdown",
   "metadata": {},
   "source": [
    "### 1.8.1 Potential and Energy"
   ]
  },
  {
   "cell_type": "markdown",
   "metadata": {},
   "source": [
    "Add shit here (Henrik)"
   ]
  },
  {
   "cell_type": "markdown",
   "metadata": {},
   "source": [
    "### 1.8.2 Force"
   ]
  },
  {
   "cell_type": "markdown",
   "metadata": {},
   "source": [
    "Add shit here (Marco)"
   ]
  },
  {
   "cell_type": "markdown",
   "metadata": {},
   "source": [
    "## 1.9 Class \"dynamics\""
   ]
  },
  {
   "cell_type": "markdown",
   "metadata": {},
   "source": [
    "- velocity_verlet_integrator(self, Positions, Velocities,  Forces,  Labels, Sigma,  Epsilon , dt, L,  switch_parameter,  r_switch, neighbours_LJ, coulomb, lennard_jones)\n",
    "\n",
    "\n",
    "- Thermometer(self, Labels, Velocities)\n",
    "\n",
    "\n",
    "- compute_dynamics(self, Positions, Velocities,  Forces,  Labels, Sigma,  Epsilon , dt, L,  T, switch_parameter,  r_switch, neighbours_LJ, p_rea, coulomb, lennard_jones)"
   ]
  },
  {
   "cell_type": "markdown",
   "metadata": {},
   "source": [
    "### 1.9.1 Thermostat"
   ]
  },
  {
   "cell_type": "markdown",
   "metadata": {},
   "source": [
    "Add shit here (Marco), maybe talk about distribution as well. Don't think that needs an extra headline."
   ]
  },
  {
   "cell_type": "markdown",
   "metadata": {},
   "source": [
    "### 1.9.2 Velocity-Verlet-Integrator"
   ]
  },
  {
   "cell_type": "markdown",
   "metadata": {},
   "source": [
    "Add shit here (Steffi/Marco)"
   ]
  },
  {
   "cell_type": "markdown",
   "metadata": {},
   "source": [
    "## 1.10 Output of package get_traj "
   ]
  },
  {
   "cell_type": "markdown",
   "metadata": {},
   "source": [
    "- trajectory as xyz-file\n",
    "\n",
    "- energy in a text-file (maybe as graph as well)\n",
    "\n",
    "- Temperature in a text-file\n"
   ]
  },
  {
   "cell_type": "markdown",
   "metadata": {},
   "source": [
    "# 2. Performance \n",
    "## 2.1 NaCl "
   ]
  },
  {
   "cell_type": "markdown",
   "metadata": {},
   "source": [
    "Make tests and measure computing time, talk about it, what happens, what is output, maybe show input as well, show video on vmd\n",
    "\n",
    "maybe compute sth during presentation or prepare beforehand\n",
    "\n",
    "Basically show off (="
   ]
  },
  {
   "cell_type": "markdown",
   "metadata": {},
   "source": [
    "# Outlook"
   ]
  },
  {
   "cell_type": "markdown",
   "metadata": {},
   "source": [
    "- improve computing time by adding distance tensor ---> get rid of some for-loops\n",
    "\n",
    "- some other shit"
   ]
  },
  {
   "cell_type": "code",
   "execution_count": null,
   "metadata": {
    "collapsed": true
   },
   "outputs": [],
   "source": []
  }
 ],
 "metadata": {
  "anaconda-cloud": {},
  "kernelspec": {
   "display_name": "Python [conda root]",
   "language": "python",
   "name": "conda-root-py"
  },
  "language_info": {
   "codemirror_mode": {
    "name": "ipython",
    "version": 3
   },
   "file_extension": ".py",
   "mimetype": "text/x-python",
   "name": "python",
   "nbconvert_exporter": "python",
   "pygments_lexer": "ipython3",
   "version": "3.5.2"
  },
  "nbpresent": {
   "slides": {
    "93fc6761-5f75-48bd-a866-604c00d18784": {
     "id": "93fc6761-5f75-48bd-a866-604c00d18784",
     "prev": null,
     "regions": {}
    },
    "bd72db0f-3e71-4520-9271-333ecd186d35": {
     "id": "bd72db0f-3e71-4520-9271-333ecd186d35",
     "layout": "grid",
     "prev": "93fc6761-5f75-48bd-a866-604c00d18784",
     "regions": {}
    }
   },
   "themes": {}
  }
 },
 "nbformat": 4,
 "nbformat_minor": 1
}
