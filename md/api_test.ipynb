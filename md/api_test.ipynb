{
 "cells": [
  {
   "cell_type": "code",
   "execution_count": 1,
   "metadata": {
    "collapsed": false
   },
   "outputs": [],
   "source": [
    "import numpy as np\n",
    "from boxvectors import directions as directions\n",
    "import Initial_Parameters as ip\n",
    "from md import System\n",
    "from md import md\n",
    "from distribution import maxwellboltzmann\n",
    "import matplotlib.pyplot as plt\n",
    "from scipy.special import erf\n",
    "from scipy.special import erfc\n",
    "from scipy.constants import epsilon_0\n",
    "%matplotlib inline"
   ]
  },
  {
   "cell_type": "code",
   "execution_count": 2,
   "metadata": {
    "collapsed": false
   },
   "outputs": [],
   "source": [
    "Symbols = ip.Symbols\n",
    "Coefficients = ip.Coefficients\n",
    "Charges = ip.Charges\n",
    "N = ip.N*np.sum(Coefficients)\n",
    "L = ip.L\n",
    "T = ip.T\n",
    "dt = ip.dt\n",
    "p_rea = ip.p_rea\n",
    "std = ip.std\n",
    "n_boxes_short_range = ip.n_boxes_short_range\n",
    "p_error = ip.p_error\n",
    "Sys= System(Symbols, Coefficients, Charges, N/2)\n",
    "Labels = Sys.get_Labels()\n",
    "Sigma, Epsilon = Sys.get_LJ_parameter()\n",
    "r_cut_coulomb = ip.r_cut_coulomb\n",
    "r_cut_LJ = ip.r_cut_LJ\n",
    "r_switch = ip.r_switch\n",
    "switch_parameter = ip.switch_parameter\n",
    "m = Labels[:,0]"
   ]
  },
  {
   "cell_type": "code",
   "execution_count": 3,
   "metadata": {
    "collapsed": false
   },
   "outputs": [],
   "source": [
    "def get_random_starting_Positions(N,L):\n",
    "    Positions = np.zeros((N,3))\n",
    "    Positions[:,0] = np.linspace(0,L[0],N, endpoint = False)\n",
    "    Positions[:,1] = np.linspace(0,L[1],N, endpoint = False)\n",
    "    Positions[:,2] = np.linspace(0,L[2],N, endpoint = False)\n",
    "    np.random.shuffle(Positions[:,0])\n",
    "    np.random.shuffle(Positions[:,1])\n",
    "    np.random.shuffle(Positions[:,2])\n",
    "    return Positions\n",
    "Positions = get_random_starting_Positions(N,L)\n",
    "Velocities = maxwellboltzmann().sample_distribution(N,m,T)\n",
    "Forces = np.zeros((N,3))\n",
    "# R = np.linalg.norm(Positions,axis=1)"
   ]
  },
  {
   "cell_type": "code",
   "execution_count": 4,
   "metadata": {
    "collapsed": false
   },
   "outputs": [],
   "source": [
    "# Positions = ((directions(2).get_directions()))\n",
    "# Positions = Positions +2\n",
    "# Positions = np.delete(Positions, np.where(np.max(Positions, axis = 1)==4),axis = 0)\n",
    "# Positions = (Positions*564e-12)+282e-12\n",
    "R = np.linalg.norm(Positions,axis=1)"
   ]
  },
  {
   "cell_type": "code",
   "execution_count": 5,
   "metadata": {
    "collapsed": false
   },
   "outputs": [],
   "source": [
    "L*=1.5"
   ]
  },
  {
   "cell_type": "code",
   "execution_count": 6,
   "metadata": {
    "collapsed": false
   },
   "outputs": [
    {
     "name": "stdout",
     "output_type": "stream",
     "text": [
      "0.0160000324249\n"
     ]
    },
    {
     "name": "stderr",
     "output_type": "stream",
     "text": [
      "neighbourlist.py:44: RuntimeWarning: divide by zero encountered in double_scalars\n",
      "  r_c = box_length / n_cells\n"
     ]
    }
   ],
   "source": [
    "MD = md(\n",
    "    Positions, \n",
    "    Labels, \n",
    "    Velocities,\n",
    "    Forces, \n",
    "    L, \n",
    "    T, \n",
    "    Sigma, \n",
    "    Epsilon, \n",
    "    switch_parameter,\n",
    "    r_switch,\n",
    "    r_cut_LJ,\n",
    "    dt, \n",
    "    std,\n",
    "    n_boxes_short_range,\n",
    "    p_rea,\n",
    "    p_error,\n",
    "    Symbols)"
   ]
  },
  {
   "cell_type": "code",
   "execution_count": 7,
   "metadata": {
    "collapsed": false
   },
   "outputs": [],
   "source": [
    "MD.forces = MD.get_forces()"
   ]
  },
  {
   "cell_type": "code",
   "execution_count": 8,
   "metadata": {
    "collapsed": false,
    "scrolled": true
   },
   "outputs": [],
   "source": [
    "# print MD.get_energy()\n",
    "# print MD.get_potential()\n",
    "# print MD.forces"
   ]
  },
  {
   "cell_type": "code",
   "execution_count": 9,
   "metadata": {
    "collapsed": false
   },
   "outputs": [
    {
     "data": {
      "text/plain": [
       "'C:\\\\Users\\\\Marco\\\\Documents\\\\GitHub\\\\compsci-proj-md-master\\\\md'"
      ]
     },
     "execution_count": 9,
     "metadata": {},
     "output_type": "execute_result"
    }
   ],
   "source": [
    "import os\n",
    "import time\n",
    "cwd = os.getcwd()\n",
    "cwd"
   ]
  },
  {
   "cell_type": "code",
   "execution_count": 10,
   "metadata": {
    "collapsed": false
   },
   "outputs": [
    {
     "name": "stdout",
     "output_type": "stream",
     "text": [
      "100.0% of steps completed\n",
      "\n",
      "131.890000105\n"
     ]
    }
   ],
   "source": [
    "start = time.time()\n",
    "MD.minmimize_Energy(N_steps = 1000, threshold=1e-11, Energy_save=1,  Frame_save=1, constant = dt, path=cwd)\n",
    "ende = time.time()\n",
    "print \"\\n\"\n",
    "print ende-start"
   ]
  },
  {
   "cell_type": "code",
   "execution_count": 11,
   "metadata": {
    "collapsed": false
   },
   "outputs": [
    {
     "name": "stdout",
     "output_type": "stream",
     "text": [
      "100.0% of steps \\completed\n",
      "\n",
      "13.1859998703\n"
     ]
    }
   ],
   "source": [
    "start = time.time()\n",
    "MD.get_traj(N_steps=100, Energy_save=1, Temperature_save=1, Frame_save=1, path = cwd)\n",
    "ende = time.time()\n",
    "print \"\\n\"\n",
    "print ende-start"
   ]
  },
  {
   "cell_type": "code",
   "execution_count": 12,
   "metadata": {
    "collapsed": false
   },
   "outputs": [
    {
     "data": {
      "text/plain": [
       "array([[ -4.01394385e-11,   3.15363715e-11,   2.76309015e-11],\n",
       "       [  4.11849532e-12,   1.70987356e-11,  -3.22270284e-11],\n",
       "       [ -3.19392451e-11,  -3.55588586e-11,  -9.59827024e-12],\n",
       "       [ -6.98429091e-12,   4.14449537e-11,   2.27361340e-11],\n",
       "       [  3.54497360e-11,  -4.80762551e-11,   3.90466657e-11],\n",
       "       [ -3.47992187e-11,  -5.03366123e-11,   1.11193502e-11],\n",
       "       [  2.50093051e-12,   4.05080015e-11,  -1.56713054e-11],\n",
       "       [ -4.34619026e-11,   5.18913698e-11,   5.09108812e-11],\n",
       "       [ -4.18995125e-11,  -4.37634357e-11,  -1.04515093e-12],\n",
       "       [  1.04151222e-11,   6.84264675e-11,  -3.88458795e-12],\n",
       "       [  2.60483657e+03,  -2.41568307e+03,   1.00885026e+03],\n",
       "       [ -1.22526568e-11,   3.47824440e-11,  -2.37651485e-11],\n",
       "       [ -9.94318213e-14,   6.76974711e-11,  -3.61318615e-12],\n",
       "       [ -1.41112537e-11,   4.01251524e-11,  -5.48562840e-11],\n",
       "       [  9.18008909e-12,   3.06882046e-11,  -5.09523470e-11],\n",
       "       [ -1.37877562e-12,   6.40309843e-11,   2.03546431e-11],\n",
       "       [ -2.60483657e+03,   2.41568307e+03,  -1.00885026e+03],\n",
       "       [  1.30420483e-11,  -1.01074450e-11,  -2.11698492e-11],\n",
       "       [ -2.93754555e-11,  -1.95019045e-12,  -1.10445307e-11],\n",
       "       [  5.92255593e-11,  -4.68481338e-11,   2.47355411e-11],\n",
       "       [ -3.60939043e-11,  -4.14638620e-11,  -4.46271386e-11],\n",
       "       [  2.28607316e-11,  -7.59294002e-11,   2.13488454e-11],\n",
       "       [  1.46302021e-11,   6.78555556e-11,   3.16650524e-11],\n",
       "       [ -3.50869438e-11,   4.55398409e-11,  -3.38061214e-11],\n",
       "       [ -1.91193093e-11,   5.75621113e-12,  -4.23866924e-11],\n",
       "       [ -3.20214125e-11,   6.50581007e-11,   5.43684848e-11],\n",
       "       [  2.33604553e-11,  -5.71045230e-11,  -7.54594716e-12],\n",
       "       [ -3.50394190e-12,   9.25794066e-12,  -2.45165961e-11],\n",
       "       [  2.38795697e-11,  -3.82062466e-11,  -2.64383962e-11],\n",
       "       [  2.08145214e-11,  -1.26632531e-12,  -3.59137525e-11],\n",
       "       [ -5.92725273e-11,  -6.12544466e-11,   3.17184283e-11],\n",
       "       [ -2.00329258e-11,  -2.42399901e-11,   1.89748351e-11],\n",
       "       [ -2.74143586e-11,  -5.79886259e-11,   3.67049436e-11],\n",
       "       [  2.57028908e-11,  -3.96193412e-11,   2.81787559e-11],\n",
       "       [ -2.05204108e-11,  -4.71961073e-11,   3.77014106e-11],\n",
       "       [  6.39614990e-11,   3.15813058e-11,  -4.66056478e-12],\n",
       "       [  1.52237661e-11,  -2.59214551e-11,  -2.79395602e-11],\n",
       "       [  3.66720318e-11,   3.00692562e-11,  -4.57988466e-11],\n",
       "       [ -6.52555938e-12,   7.03828339e-11,  -3.27782865e-11],\n",
       "       [  2.53684127e-11,  -4.62129046e-11,   7.03742401e-12],\n",
       "       [  8.96153435e-12,   7.34036277e-12,  -4.83425260e-12],\n",
       "       [ -2.58374461e-11,  -5.04355948e-11,   5.75076467e-12],\n",
       "       [  3.53579344e-11,  -2.80223649e-11,  -2.21236399e-11],\n",
       "       [ -1.51478593e-11,   2.20629159e-11,   2.37981131e-11],\n",
       "       [  3.86608581e-11,  -2.80307189e-15,  -2.10929116e-11],\n",
       "       [  2.09195160e-12,  -4.82047830e-11,   3.59634900e-11],\n",
       "       [  7.97078391e-12,   3.27949150e-11,  -1.33644917e-11],\n",
       "       [  3.20611299e-11,   3.79672445e-11,   3.89412624e-11],\n",
       "       [ -7.37409775e-13,  -2.16095511e-11,   3.98255362e-11],\n",
       "       [  6.35779087e-12,  -1.55206434e-11,  -1.59558741e-11],\n",
       "       [ -4.24714551e-11,   5.41945027e-11,  -3.76280501e-11],\n",
       "       [ -2.88386949e-12,   1.06867358e-11,   4.74180854e-11],\n",
       "       [ -1.21521535e-11,   1.94499849e-11,   5.08616869e-12],\n",
       "       [  4.38071268e-11,  -1.96922443e-11,  -1.76082259e-11],\n",
       "       [  3.31078646e-11,   2.16055957e-11,   5.91925631e-12],\n",
       "       [  2.71328130e-11,  -3.78575613e-11,   4.89382102e-11],\n",
       "       [  4.08339197e-11,  -1.43354329e-11,   2.78987394e-11],\n",
       "       [  2.07722376e-11,  -3.39079746e-11,   5.32545379e-11],\n",
       "       [ -4.84428603e-11,  -4.96294391e-11,  -1.52605273e-11],\n",
       "       [ -3.19536924e-11,   6.25318676e-11,  -3.03488011e-13],\n",
       "       [ -5.10442366e-11,   6.53762131e-11,  -1.10502401e-11],\n",
       "       [  2.93998485e-11,  -6.64844955e-11,  -5.35984150e-11],\n",
       "       [  3.01529935e-11,   5.13891759e-11,  -3.84007243e-11],\n",
       "       [  3.14311766e-11,   5.91489798e-11,  -5.07456928e-11]])"
      ]
     },
     "execution_count": 12,
     "metadata": {},
     "output_type": "execute_result"
    }
   ],
   "source": [
    "MD.forces"
   ]
  }
 ],
 "metadata": {
  "anaconda-cloud": {},
  "kernelspec": {
   "display_name": "Python [conda root]",
   "language": "python",
   "name": "conda-root-py"
  },
  "language_info": {
   "codemirror_mode": {
    "name": "ipython",
    "version": 2
   },
   "file_extension": ".py",
   "mimetype": "text/x-python",
   "name": "python",
   "nbconvert_exporter": "python",
   "pygments_lexer": "ipython2",
   "version": "2.7.12"
  }
 },
 "nbformat": 4,
 "nbformat_minor": 0
}
