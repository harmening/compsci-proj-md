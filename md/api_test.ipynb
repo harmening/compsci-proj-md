{
 "cells": [
  {
   "cell_type": "code",
   "execution_count": 2,
   "metadata": {
    "collapsed": false
   },
   "outputs": [],
   "source": [
    "import numpy as np\n",
    "from boxvectors import directions as directions\n",
    "import Initial_Parameters as ip\n",
    "from md import System\n",
    "from md import md\n",
    "from distribution import maxwellboltzmann\n",
    "import matplotlib.pyplot as plt\n",
    "from scipy.special import erf\n",
    "from scipy.special import erfc\n",
    "from scipy.constants import epsilon_0\n",
    "%matplotlib inline"
   ]
  },
  {
   "cell_type": "code",
   "execution_count": 3,
   "metadata": {
    "collapsed": false
   },
   "outputs": [],
   "source": [
    "Symbols = ip.Symbols\n",
    "Coefficients = ip.Coefficients\n",
    "Charges = ip.Charges\n",
    "N = ip.N*np.sum(Coefficients)\n",
    "L = ip.L\n",
    "T = ip.T\n",
    "dt = ip.dt\n",
    "p_rea = ip.p_rea\n",
    "std = ip.std\n",
    "n_boxes_short_range = ip.n_boxes_short_range\n",
    "p_error = ip.p_error\n",
    "Sys= System(Symbols, Coefficients, Charges, N/2)\n",
    "Labels = Sys.get_Labels()\n",
    "Sigma, Epsilon = Sys.get_LJ_parameter()\n",
    "r_cut_coulomb = ip.r_cut_coulomb\n",
    "r_cut_LJ = ip.r_cut_LJ\n",
    "r_switch = ip.r_switch\n",
    "switch_parameter = ip.switch_parameter\n",
    "m = Labels[:,0]"
   ]
  },
  {
   "cell_type": "code",
   "execution_count": 4,
   "metadata": {
    "collapsed": false
   },
   "outputs": [],
   "source": [
    "def get_random_starting_Positions(N,L):\n",
    "    Positions = np.zeros((N,3))\n",
    "    Positions[:,0] = np.linspace(0.1/N,L[0],N, endpoint = False)\n",
    "    Positions[:,1] = np.linspace(0.1/N,L[1],N, endpoint = False)\n",
    "    Positions[:,2] = np.linspace(0.1/N,L[2],N, endpoint = False)\n",
    "    np.random.shuffle(Positions[:,0])\n",
    "    np.random.shuffle(Positions[:,1])\n",
    "    np.random.shuffle(Positions[:,2])\n",
    "    return Positions\n",
    "Positions = get_random_starting_Positions(N,L)\n",
    "Velocities = maxwellboltzmann().sample_distribution(N,m,T)\n",
    "Forces = np.zeros((N,3))\n",
    "R = np.linalg.norm(Positions,axis=1)"
   ]
  },
  {
   "cell_type": "code",
   "execution_count": 5,
   "metadata": {
    "collapsed": false
   },
   "outputs": [],
   "source": [
    "MD = md(\n",
    "    Positions, \n",
    "    R, \n",
    "    Labels, \n",
    "    Velocities,\n",
    "    Forces, \n",
    "    L, \n",
    "    T, \n",
    "    Sigma, \n",
    "    Epsilon, \n",
    "    switch_parameter,\n",
    "    r_switch,\n",
    "    r_cut_LJ,\n",
    "    dt, \n",
    "    std,\n",
    "    n_boxes_short_range,\n",
    "    p_rea,\n",
    "    p_error)"
   ]
  },
  {
   "cell_type": "code",
   "execution_count": 6,
   "metadata": {
    "collapsed": false
   },
   "outputs": [],
   "source": [
    "MD.forces = MD.get_forces()"
   ]
  },
  {
   "cell_type": "code",
   "execution_count": 7,
   "metadata": {
    "collapsed": false
   },
   "outputs": [
    {
     "name": "stdout",
     "output_type": "stream",
     "text": [
      "-1.79081138529e-24\n",
      "[ -3.33309316e-08   2.08725275e-08   3.38051474e-08   5.94450247e-08\n",
      "  -1.72227544e-08   2.42102347e-08   1.00469853e-07  -2.49687584e-08\n",
      "  -1.30233498e-08   1.25304885e-08  -6.59339051e-08  -5.74772666e-08\n",
      "  -5.98161815e-08  -3.13917515e-08  -1.31530648e-08  -4.71138188e-08\n",
      "  -5.63718068e-08  -3.68724424e-08  -3.80408553e-08  -5.48196317e-08]\n",
      "[[  4.40189654e-25  -3.55624106e-25  -6.81264677e-25]\n",
      " [ -1.92856140e-26   3.78865757e-25  -1.27544917e-25]\n",
      " [ -2.54580009e-25   1.66274851e-25  -3.04851263e-25]\n",
      " [ -2.47753400e-25  -3.30648887e-25   1.02818474e-25]\n",
      " [ -2.22831971e-26   3.28117931e-25   4.26364183e-25]\n",
      " [  5.02816557e-25   3.18126503e-25   3.12068885e-25]\n",
      " [  2.99094773e-25  -1.04779339e-25  -2.72593205e-25]\n",
      " [ -5.05777932e-25  -4.50050659e-25  -1.75306887e-25]\n",
      " [ -8.20557920e-26   2.97135040e-25   2.81324037e-25]\n",
      " [  4.73627246e-25  -1.83722018e-25   3.27660677e-25]\n",
      " [  2.70546685e-25   4.96204860e-25  -8.18424006e-26]\n",
      " [  6.41638212e-26   3.84458048e-25   6.09980200e-25]\n",
      " [ -2.70127375e-25   6.93714419e-26  -7.66706882e-25]\n",
      " [  7.98929164e-26  -4.28217109e-25  -9.01454325e-26]\n",
      " [  9.89659929e-26  -1.77276197e-25  -6.76402648e-26]\n",
      " [  2.20287360e-25  -5.03830241e-25  -9.53946911e-27]\n",
      " [ -1.19074831e-25   3.54551180e-25   5.18312313e-25]\n",
      " [  3.91235747e-26  -9.14309530e-26   6.30727566e-26]\n",
      " [ -7.12324785e-25  -1.07799740e-25  -1.34336569e-25]\n",
      " [ -2.55445644e-25  -5.97263646e-26   7.01704413e-26]]\n"
     ]
    }
   ],
   "source": [
    "print MD.get_energy()\n",
    "print MD.get_potential()\n",
    "print MD.forces"
   ]
  },
  {
   "cell_type": "code",
   "execution_count": 9,
   "metadata": {
    "collapsed": false
   },
   "outputs": [
    {
     "data": {
      "text/plain": [
       "[<matplotlib.lines.Line2D at 0x842b2e8>]"
      ]
     },
     "execution_count": 9,
     "metadata": {},
     "output_type": "execute_result"
    },
    {
     "data": {
      "image/png": "[encoded data removed]",
      "text/plain": [
       "<matplotlib.figure.Figure at 0x83143c8>"
      ]
     },
     "metadata": {},
     "output_type": "display_data"
    }
   ],
   "source": [
    "Temperature = np.zeros(10)\n",
    "for i in np.arange(10):\n",
    "    Positions_New, Velocities_New, Forces_New = MD.propagte_system()\n",
    "    MD.positions = Positions_New\n",
    "    MD.velocities = Velocities_New\n",
    "    MD.forces = Forces_New\n",
    "    MD.neighbours_LJ  = MD.get_neighbourlist_LJ()[0]\n",
    "    Temperature[i] = MD.get_Temperature()\n",
    "plt.plot(Temperature)"
   ]
  },
  {
   "cell_type": "code",
   "execution_count": 12,
   "metadata": {
    "collapsed": false
   },
   "outputs": [
    {
     "data": {
      "text/plain": [
       "0"
      ]
     },
     "execution_count": 12,
     "metadata": {},
     "output_type": "execute_result"
    }
   ],
   "source": [
    "MD.neighbours = 0\n",
    "MD.neighbours"
   ]
  },
  {
   "cell_type": "code",
   "execution_count": null,
   "metadata": {
    "collapsed": true
   },
   "outputs": [],
   "source": [
    ""
   ]
  }
 ],
 "metadata": {
  "anaconda-cloud": {},
  "kernelspec": {
   "display_name": "Python [conda root]",
   "language": "python",
   "name": "conda-root-py"
  },
  "language_info": {
   "codemirror_mode": {
    "name": "ipython",
    "version": 2.0
   },
   "file_extension": ".py",
   "mimetype": "text/x-python",
   "name": "python",
   "nbconvert_exporter": "python",
   "pygments_lexer": "ipython2",
   "version": "2.7.12"
  }
 },
 "nbformat": 4,
 "nbformat_minor": 0
}