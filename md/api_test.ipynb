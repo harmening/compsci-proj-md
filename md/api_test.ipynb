{
 "cells": [
  {
   "cell_type": "code",
   "execution_count": 1,
   "metadata": {
    "collapsed": false
   },
   "outputs": [],
   "source": [
    "import numpy as np\n",
    "from boxvectors import directions as directions\n",
    "import Initial_Parameters as ip\n",
    "from md import System\n",
    "from md import md\n",
    "from distribution import maxwellboltzmann\n",
    "import matplotlib.pyplot as plt\n",
    "from scipy.special import erf\n",
    "from scipy.special import erfc\n",
    "from scipy.constants import epsilon_0\n",
    "%matplotlib inline"
   ]
  },
  {
   "cell_type": "code",
   "execution_count": 2,
   "metadata": {
    "collapsed": false
   },
   "outputs": [],
   "source": [
    "Symbols = ip.Symbols\n",
    "Coefficients = ip.Coefficients\n",
    "Charges = ip.Charges\n",
    "N = ip.N*np.sum(Coefficients)\n",
    "L = ip.L\n",
    "T = ip.T\n",
    "dt = ip.dt\n",
    "p_rea = ip.p_rea\n",
    "std = ip.std\n",
    "n_boxes_short_range = ip.n_boxes_short_range\n",
    "p_error = ip.p_error\n",
    "Sys= System(Symbols, Coefficients, Charges, N/2)\n",
    "Labels = Sys.get_Labels()\n",
    "Sigma, Epsilon = Sys.get_LJ_parameter()\n",
    "r_cut_coulomb = ip.r_cut_coulomb\n",
    "r_cut_LJ = ip.r_cut_LJ\n",
    "r_switch = ip.r_switch\n",
    "switch_parameter = ip.switch_parameter\n",
    "m = Labels[:,0]"
   ]
  },
  {
   "cell_type": "code",
   "execution_count": 3,
   "metadata": {
    "collapsed": true
   },
   "outputs": [],
   "source": [
    "d = 1e-9\n",
    "L*= d\n",
    "r_cut_LJ *= d\n",
    "r_cut_coulomb *= d"
   ]
  },
  {
   "cell_type": "code",
   "execution_count": 4,
   "metadata": {
    "collapsed": false
   },
   "outputs": [
    {
     "data": {
      "text/plain": [
       "array([  1.00000000e-10,   1.00000000e-10,   1.00000000e-10])"
      ]
     },
     "execution_count": 4,
     "metadata": {},
     "output_type": "execute_result"
    }
   ],
   "source": [
    "L"
   ]
  },
  {
   "cell_type": "code",
   "execution_count": 5,
   "metadata": {
    "collapsed": false
   },
   "outputs": [],
   "source": [
    "def get_random_starting_Positions(N,L):\n",
    "    Positions = np.zeros((N,3))\n",
    "    Positions[:,0] = np.linspace(0,L[0],N, endpoint = False)\n",
    "    Positions[:,1] = np.linspace(0,L[1],N, endpoint = False)\n",
    "    Positions[:,2] = np.linspace(0,L[2],N, endpoint = False)\n",
    "    np.random.shuffle(Positions[:,0])\n",
    "    np.random.shuffle(Positions[:,1])\n",
    "    np.random.shuffle(Positions[:,2])\n",
    "    return Positions\n",
    "Positions = get_random_starting_Positions(N,L)\n",
    "Velocities = maxwellboltzmann().sample_distribution(N,m,T)\n",
    "Forces = np.zeros((N,3))\n",
    "R = np.linalg.norm(Positions,axis=1)"
   ]
  },
  {
   "cell_type": "code",
   "execution_count": 6,
   "metadata": {
    "collapsed": false
   },
   "outputs": [
    {
     "data": {
      "text/plain": [
       "7.000000000000002e-11"
      ]
     },
     "execution_count": 6,
     "metadata": {},
     "output_type": "execute_result"
    }
   ],
   "source": [
    "r_cut_LJ"
   ]
  },
  {
   "cell_type": "code",
   "execution_count": 7,
   "metadata": {
    "collapsed": false
   },
   "outputs": [],
   "source": [
    "MD = md(\n",
    "    Positions, \n",
    "    R, \n",
    "    Labels, \n",
    "    Velocities,\n",
    "    Forces, \n",
    "    L, \n",
    "    T, \n",
    "    Sigma, \n",
    "    Epsilon, \n",
    "    switch_parameter,\n",
    "    r_switch,\n",
    "    r_cut_LJ,\n",
    "    dt, \n",
    "    std,\n",
    "    n_boxes_short_range,\n",
    "    p_rea,\n",
    "    p_error,\n",
    "    Symbols)"
   ]
  },
  {
   "cell_type": "code",
   "execution_count": 8,
   "metadata": {
    "collapsed": false
   },
   "outputs": [],
   "source": [
    "MD.forces = MD.get_forces()"
   ]
  },
  {
   "cell_type": "code",
   "execution_count": 9,
   "metadata": {
    "collapsed": false
   },
   "outputs": [
    {
     "name": "stdout",
     "output_type": "stream",
     "text": [
      "6.01343888638\n",
      "[  8.71823354e+18   8.30108529e+19   2.33959176e+20   2.79358390e+21\n",
      "   1.59204154e+21   6.73026300e+18   8.63561653e+21   7.82847034e+18\n",
      "   6.30666331e+19   5.22908263e+19   4.97396438e+25   1.41187309e+21\n",
      "   4.82495363e+21   4.97407696e+25   1.14567981e+22   8.51166046e+21\n",
      "   1.02760401e+22   4.81424005e+20   1.30999168e+24   1.31840856e+24]\n",
      "[[ -3.42925994e+22  -4.47176733e+22  -7.68631948e+20]\n",
      " [ -7.53938623e+21  -8.25608308e+21  -1.66319561e+22]\n",
      " [ -3.46100836e+24  -1.04021706e+25  -3.46872829e+24]\n",
      " [ -8.71431742e+21  -4.23306487e+21  -1.85567301e+22]\n",
      " [ -1.72649943e+27  -8.63251306e+26  -8.11668373e+20]\n",
      " [ -1.97382681e+24  -7.21644282e+23  -1.36279619e+24]\n",
      " [ -1.88198019e+22  -3.74956187e+22  -7.49719016e+22]\n",
      " [ -1.61300381e+24  -1.35941397e+21  -1.07571433e+24]\n",
      " [ -7.62973241e+22  -2.38654690e+22  -3.91008469e+22]\n",
      " [ -2.82360549e+25  -1.41528605e+25  -2.82182381e+25]\n",
      " [ -2.35332827e+25  -3.52911654e+25  -1.17719297e+25]\n",
      " [ -2.82851724e+25  -1.81654663e+25  -3.60124872e+25]\n",
      " [ -1.54189767e+28  -1.54188436e+28  -1.54189228e+28]\n",
      " [ -3.71877397e+23  -3.66824526e+23  -5.02334959e+23]\n",
      " [ -6.96542563e+25  -6.93734923e+25  -6.98068950e+25]\n",
      " [ -1.61280674e+23  -2.29723870e+23  -3.08599093e+23]\n",
      " [ -2.13357905e+23  -2.19925242e+23  -2.61270402e+23]\n",
      " [ -1.17675218e+25  -7.67173800e+26  -2.83161158e+26]\n",
      " [ -1.52555768e+23  -3.89453784e+22  -4.19172704e+22]\n",
      " [ -4.22166188e+24  -1.53449525e+24  -4.22223333e+24]]\n"
     ]
    }
   ],
   "source": [
    "print MD.get_energy()\n",
    "print MD.get_potential()\n",
    "print MD.forces\n"
   ]
  },
  {
   "cell_type": "code",
   "execution_count": 10,
   "metadata": {
    "collapsed": false
   },
   "outputs": [
    {
     "data": {
      "text/plain": [
       "'C:\\\\Users\\\\Marco\\\\Documents\\\\GitHub\\\\compsci-proj-md-OptimalCutoff\\\\md'"
      ]
     },
     "execution_count": 10,
     "metadata": {},
     "output_type": "execute_result"
    }
   ],
   "source": [
    "import os\n",
    "cwd = os.getcwd()\n",
    "cwd"
   ]
  },
  {
   "cell_type": "code",
   "execution_count": 11,
   "metadata": {
    "collapsed": false
   },
   "outputs": [
    {
     "name": "stdout",
     "output_type": "stream",
     "text": [
      "100.0% of steps \\completed"
     ]
    },
    {
     "data": {
      "text/plain": [
       "'Maximum Number of Steps reached, system eventually not converged'"
      ]
     },
     "execution_count": 11,
     "metadata": {},
     "output_type": "execute_result"
    }
   ],
   "source": [
    "MD.get_traj(N_steps = 20, Energy_threshold=1e-20, Energy_save=1, Temperature_save=1, Frame_save=1, path=cwd)"
   ]
  }
 ],
 "metadata": {
  "anaconda-cloud": {},
  "kernelspec": {
   "display_name": "Python [conda root]",
   "language": "python",
   "name": "conda-root-py"
  },
  "language_info": {
   "codemirror_mode": {
    "name": "ipython",
    "version": 2
   },
   "file_extension": ".py",
   "mimetype": "text/x-python",
   "name": "python",
   "nbconvert_exporter": "python",
   "pygments_lexer": "ipython2",
   "version": "2.7.12"
  }
 },
 "nbformat": 4,
 "nbformat_minor": 1
}
