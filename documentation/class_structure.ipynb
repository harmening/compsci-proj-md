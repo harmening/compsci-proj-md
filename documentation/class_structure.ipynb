{
 "cells": [
  {
   "cell_type": "code",
   "execution_count": 1,
   "metadata": {
    "collapsed": false
   },
   "outputs": [
    {
     "ename": "SyntaxError",
     "evalue": "invalid syntax (<ipython-input-1-d6fe76d312fd>, line 2)",
     "output_type": "error",
     "traceback": [
      "\u001b[0;36m  File \u001b[0;32m\"<ipython-input-1-d6fe76d312fd>\"\u001b[0;36m, line \u001b[0;32m2\u001b[0m\n\u001b[0;31m    def class md(object):\u001b[0m\n\u001b[0m            ^\u001b[0m\n\u001b[0;31mSyntaxError\u001b[0m\u001b[0;31m:\u001b[0m invalid syntax\n"
     ]
    }
   ],
   "source": [
    "#md.py\n",
    "def class md(object):\n",
    "    __init__(self):\n",
    "        pass"
   ]
  },
  {
   "cell_type": "code",
   "execution_count": 2,
   "metadata": {
    "collapsed": false
   },
   "outputs": [
    {
     "ename": "SyntaxError",
     "evalue": "invalid syntax (<ipython-input-2-68ee2566f746>, line 2)",
     "output_type": "error",
     "traceback": [
      "\u001b[0;36m  File \u001b[0;32m\"<ipython-input-2-68ee2566f746>\"\u001b[0;36m, line \u001b[0;32m2\u001b[0m\n\u001b[0;31m    def class particle_interaction(md):\u001b[0m\n\u001b[0m            ^\u001b[0m\n\u001b[0;31mSyntaxError\u001b[0m\u001b[0;31m:\u001b[0m invalid syntax\n"
     ]
    }
   ],
   "source": [
    "#particle_interaction.py\n",
    "from abc import ABCMeta, abstractmethod, abstractproperty\n",
    "def class particle_interaction(md):\n",
    "    __metaclass__ =ABCMeta\n",
    "    #The parameter input is missing\n",
    "    @abstractmethod\n",
    "    def compute_potential(self):\n",
    "        pass\n",
    "    \n",
    "    @abstractmethod\n",
    "    def compute_forces(self):\n",
    "        pass\n",
    "    \n",
    "    #if we have some class properties, we can implement it like below\n",
    "    #@abstractproperty\n",
    "    #def get_anything(self):\n",
    "    \n",
    "    @classmethod\n",
    "    def compute_total_forces(self):\n",
    "        coloumbforce=coloumb.compute_forces()\n",
    "        ljforce=lennard_jones.compute_forces()\n",
    "        return coloumbforce+ljforce    \n",
    "        \n",
    "def class coloumb(particle_interaction):\n",
    "    \n",
    "    def __init__(self):\n",
    "        md.__init__(self)\n",
    "        return\n",
    "    \n",
    "    def compute_potential(self):\n",
    "        #do anything\n",
    "        return None\n",
    "    \n",
    "    def __short_range_potential(self):\n",
    "        #do anything\n",
    "        #use from super the result of neighbourlist\n",
    "        return None\n",
    "    \n",
    "    def __long_range_potential(self):\n",
    "        #do anything\n",
    "        return None\n",
    "    \n",
    "    def compute_forces(self):\n",
    "        #compute forces\n",
    "        return None\n",
    "\n",
    "    def __short_range_forces(self):\n",
    "        #do anything\n",
    "        #use from super the result of neighbourlist\n",
    "        return None\n",
    "    \n",
    "    def __long_range_forces(self):\n",
    "        #do anything\n",
    "        return None\n",
    "\n",
    "    \n",
    "def class lennard_jones(particle_interaction):\n",
    "    def __init__(self):\n",
    "        md.__init__(self)\n",
    "        return\n",
    "    \n",
    "    def compute_potential(self):\n",
    "        #do anything\n",
    "        #use from super the result of neighbourlist\n",
    "        return None\n",
    "    \n",
    "    def compute_forces(self):\n",
    "        #compute forces\n",
    "        #use from super the result of neighbourlist\n",
    "        return None"
   ]
  },
  {
   "cell_type": "code",
   "execution_count": 3,
   "metadata": {
    "collapsed": false
   },
   "outputs": [
    {
     "ename": "SyntaxError",
     "evalue": "invalid syntax (<ipython-input-3-f6250450fc55>, line 1)",
     "output_type": "error",
     "traceback": [
      "\u001b[0;36m  File \u001b[0;32m\"<ipython-input-3-f6250450fc55>\"\u001b[0;36m, line \u001b[0;32m1\u001b[0m\n\u001b[0;31m    def class neighbourlist(md):\u001b[0m\n\u001b[0m            ^\u001b[0m\n\u001b[0;31mSyntaxError\u001b[0m\u001b[0;31m:\u001b[0m invalid syntax\n"
     ]
    }
   ],
   "source": [
    "#neighbour_list.py\n",
    "def class neighbourlist(md):\n",
    "    \n",
    "    def __init__(self):\n",
    "        md.__init__(self)\n",
    "        return\n",
    "    \n",
    "    def compute_neighbourlist(self):\n",
    "        #computeneighbourlist\n",
    "        return None"
   ]
  },
  {
   "cell_type": "code",
   "execution_count": 4,
   "metadata": {
    "collapsed": false
   },
   "outputs": [
    {
     "ename": "SyntaxError",
     "evalue": "invalid syntax (<ipython-input-4-7d7150cb7b45>, line 1)",
     "output_type": "error",
     "traceback": [
      "\u001b[0;36m  File \u001b[0;32m\"<ipython-input-4-7d7150cb7b45>\"\u001b[0;36m, line \u001b[0;32m1\u001b[0m\n\u001b[0;31m    def class dynamics(md):\u001b[0m\n\u001b[0m            ^\u001b[0m\n\u001b[0;31mSyntaxError\u001b[0m\u001b[0;31m:\u001b[0m invalid syntax\n"
     ]
    }
   ],
   "source": [
    "#dynamics.py\n",
    "def class dynamics(md):\n",
    "    \n",
    "    def __init__(self):\n",
    "        md.__init__(self)\n",
    "        return\n",
    "    \n",
    "    def __velocity_verlet_integrator(self):\n",
    "        #do the integration\n",
    "        return None\n",
    "    \n",
    "    def __Andersen_Thermostat(self):\n",
    "        #do the thermostat stuff\n",
    "        return None\n",
    "    \n",
    "    def compute_dynamics(self):\n",
    "        #compute_total_forces\n",
    "        #__velocity_verlet_integrator\n",
    "        #__Andersen_Thermostat\n",
    "        return None"
   ]
  },
  {
   "cell_type": "code",
   "execution_count": 5,
   "metadata": {
    "collapsed": false
   },
   "outputs": [
    {
     "ename": "SyntaxError",
     "evalue": "invalid syntax (<ipython-input-5-911ce70fd554>, line 2)",
     "output_type": "error",
     "traceback": [
      "\u001b[0;36m  File \u001b[0;32m\"<ipython-input-5-911ce70fd554>\"\u001b[0;36m, line \u001b[0;32m2\u001b[0m\n\u001b[0;31m    def class distribution(md):\u001b[0m\n\u001b[0m            ^\u001b[0m\n\u001b[0;31mSyntaxError\u001b[0m\u001b[0;31m:\u001b[0m invalid syntax\n"
     ]
    }
   ],
   "source": [
    "#distribution.py\n",
    "from abc import ABCMeta, abstractmethod, abstractproperty\n",
    "def class distribution(md):\n",
    "    __metaclass__ =ABCMeta\n",
    " \n",
    "    @abstractmethod\n",
    "    def sample_distribution(self):\n",
    "        pass\n",
    "    \n",
    "def class maxwellboltzmann(distribution):\n",
    "    \n",
    "    def __init__(self):\n",
    "        md.__init__(self)\n",
    "        return\n",
    "    \n",
    "    def generate_distribution(self):\n",
    "        #do anything\n",
    "        return None\n",
    "    \n",
    "    def sample_distribution(self):\n",
    "        #do anything\n",
    "        return None"
   ]
  },
  {
   "cell_type": "code",
   "execution_count": null,
   "metadata": {
    "collapsed": true
   },
   "outputs": [],
   "source": []
  }
 ],
 "metadata": {
  "kernelspec": {
   "display_name": "Python [default]",
   "language": "python",
   "name": "python3"
  },
  "language_info": {
   "codemirror_mode": {
    "name": "ipython",
    "version": 3
   },
   "file_extension": ".py",
   "mimetype": "text/x-python",
   "name": "python",
   "nbconvert_exporter": "python",
   "pygments_lexer": "ipython3",
   "version": "3.5.2"
  }
 },
 "nbformat": 4,
 "nbformat_minor": 1
}
